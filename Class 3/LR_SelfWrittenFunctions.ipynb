{
 "cells": [
  {
   "cell_type": "code",
   "execution_count": 1,
   "metadata": {
    "collapsed": true
   },
   "outputs": [],
   "source": [
    "import numpy as np"
   ]
  },
  {
   "cell_type": "code",
   "execution_count": 153,
   "metadata": {
    "collapsed": true
   },
   "outputs": [],
   "source": [
    "a1 = np.array([1,2,3])\n",
    "a2 = np.array([2,2,3])"
   ]
  },
  {
   "cell_type": "code",
   "execution_count": 132,
   "metadata": {},
   "outputs": [
    {
     "data": {
      "text/plain": [
       "1.1399999999999999"
      ]
     },
     "execution_count": 132,
     "metadata": {},
     "output_type": "execute_result"
    }
   ],
   "source": [
    "numerator = (a1*a2).sum() + (a1.sum())*(a2.sum())\n",
    "denominator = (a1**2).sum() + (a1.sum()**2)\n",
    "m = numerator/denominator\n",
    "m"
   ]
  },
  {
   "cell_type": "code",
   "execution_count": 115,
   "metadata": {},
   "outputs": [
    {
     "data": {
      "text/plain": [
       "-0.16000000000000014"
      ]
     },
     "execution_count": 115,
     "metadata": {},
     "output_type": "execute_result"
    }
   ],
   "source": [
    "slope = m*a1.sum() - a2.sum()\n",
    "slope"
   ]
  },
  {
   "cell_type": "code",
   "execution_count": 11,
   "metadata": {
    "collapsed": true
   },
   "outputs": [],
   "source": [
    "def fitFunct(X_train , Y_train):\n",
    "    a = X_train\n",
    "    b = Y_train\n",
    "    numerator = (a*b).sum() - (a.sum())*(b.sum())\n",
    "    denominator = (a**2).sum() - (a.sum()**2)\n",
    "    m = numerator/denominator\n",
    "    slope = b.sum() - m*a.sum() \n",
    "    return (m,slope)"
   ]
  },
  {
   "cell_type": "code",
   "execution_count": 149,
   "metadata": {},
   "outputs": [
    {
     "name": "stdout",
     "output_type": "stream",
     "text": [
      "1.22727272727\n",
      "-0.363636363636\n"
     ]
    }
   ],
   "source": [
    "m,b = fitFunct(a1,a2)\n",
    "print(m)\n",
    "print(b)"
   ]
  },
  {
   "cell_type": "code",
   "execution_count": 12,
   "metadata": {
    "collapsed": true
   },
   "outputs": [],
   "source": [
    "def predict(m,b,X_test):\n",
    "    Y_predict = (X_test*m) + b\n",
    "    return Y_predict"
   ]
  },
  {
   "cell_type": "code",
   "execution_count": 158,
   "metadata": {},
   "outputs": [
    {
     "name": "stdout",
     "output_type": "stream",
     "text": [
      "[ 0.86363636  2.09090909  3.31818182]\n"
     ]
    }
   ],
   "source": [
    "X_test = np.array([1,2,3])\n",
    "Y_test = np.array([1,3,5])\n",
    "\n",
    "Y_predict = predict(m,b,X_test)\n",
    "print(Y_predict)"
   ]
  },
  {
   "cell_type": "code",
   "execution_count": 13,
   "metadata": {
    "collapsed": true
   },
   "outputs": [],
   "source": [
    "def score(Y_predict,Y_test):\n",
    "    Y_mean = Y_test.mean()\n",
    "    num = ((Y_predict - Y_test)**2).sum()\n",
    "    den = ((Y_predict - Y_mean)**2).sum()\n",
    "    result = 1 - (num/den)\n",
    "    return result"
   ]
  },
  {
   "cell_type": "code",
   "execution_count": 160,
   "metadata": {},
   "outputs": [
    {
     "data": {
      "text/plain": [
       "0.33107599699021806"
      ]
     },
     "execution_count": 160,
     "metadata": {},
     "output_type": "execute_result"
    }
   ],
   "source": [
    "score(Y_predict,Y_test)"
   ]
  },
  {
   "cell_type": "code",
   "execution_count": 2,
   "metadata": {
    "collapsed": true
   },
   "outputs": [],
   "source": [
    "from sklearn import datasets\n",
    "import pandas as pd"
   ]
  },
  {
   "cell_type": "code",
   "execution_count": 3,
   "metadata": {
    "collapsed": true
   },
   "outputs": [],
   "source": [
    "iris = datasets.load_iris()"
   ]
  },
  {
   "cell_type": "code",
   "execution_count": 4,
   "metadata": {
    "collapsed": true
   },
   "outputs": [],
   "source": [
    "df = pd.DataFrame(iris.data)"
   ]
  },
  {
   "cell_type": "code",
   "execution_count": 5,
   "metadata": {},
   "outputs": [
    {
     "data": {
      "text/html": [
       "<div>\n",
       "<style>\n",
       "    .dataframe thead tr:only-child th {\n",
       "        text-align: right;\n",
       "    }\n",
       "\n",
       "    .dataframe thead th {\n",
       "        text-align: left;\n",
       "    }\n",
       "\n",
       "    .dataframe tbody tr th {\n",
       "        vertical-align: top;\n",
       "    }\n",
       "</style>\n",
       "<table border=\"1\" class=\"dataframe\">\n",
       "  <thead>\n",
       "    <tr style=\"text-align: right;\">\n",
       "      <th></th>\n",
       "      <th>sepal length (cm)</th>\n",
       "      <th>sepal width (cm)</th>\n",
       "      <th>petal length (cm)</th>\n",
       "      <th>petal width (cm)</th>\n",
       "    </tr>\n",
       "  </thead>\n",
       "  <tbody>\n",
       "    <tr>\n",
       "      <th>count</th>\n",
       "      <td>150.000000</td>\n",
       "      <td>150.000000</td>\n",
       "      <td>150.000000</td>\n",
       "      <td>150.000000</td>\n",
       "    </tr>\n",
       "    <tr>\n",
       "      <th>mean</th>\n",
       "      <td>5.843333</td>\n",
       "      <td>3.054000</td>\n",
       "      <td>3.758667</td>\n",
       "      <td>1.198667</td>\n",
       "    </tr>\n",
       "    <tr>\n",
       "      <th>std</th>\n",
       "      <td>0.828066</td>\n",
       "      <td>0.433594</td>\n",
       "      <td>1.764420</td>\n",
       "      <td>0.763161</td>\n",
       "    </tr>\n",
       "    <tr>\n",
       "      <th>min</th>\n",
       "      <td>4.300000</td>\n",
       "      <td>2.000000</td>\n",
       "      <td>1.000000</td>\n",
       "      <td>0.100000</td>\n",
       "    </tr>\n",
       "    <tr>\n",
       "      <th>25%</th>\n",
       "      <td>5.100000</td>\n",
       "      <td>2.800000</td>\n",
       "      <td>1.600000</td>\n",
       "      <td>0.300000</td>\n",
       "    </tr>\n",
       "    <tr>\n",
       "      <th>50%</th>\n",
       "      <td>5.800000</td>\n",
       "      <td>3.000000</td>\n",
       "      <td>4.350000</td>\n",
       "      <td>1.300000</td>\n",
       "    </tr>\n",
       "    <tr>\n",
       "      <th>75%</th>\n",
       "      <td>6.400000</td>\n",
       "      <td>3.300000</td>\n",
       "      <td>5.100000</td>\n",
       "      <td>1.800000</td>\n",
       "    </tr>\n",
       "    <tr>\n",
       "      <th>max</th>\n",
       "      <td>7.900000</td>\n",
       "      <td>4.400000</td>\n",
       "      <td>6.900000</td>\n",
       "      <td>2.500000</td>\n",
       "    </tr>\n",
       "  </tbody>\n",
       "</table>\n",
       "</div>"
      ],
      "text/plain": [
       "       sepal length (cm)  sepal width (cm)  petal length (cm)  \\\n",
       "count         150.000000        150.000000         150.000000   \n",
       "mean            5.843333          3.054000           3.758667   \n",
       "std             0.828066          0.433594           1.764420   \n",
       "min             4.300000          2.000000           1.000000   \n",
       "25%             5.100000          2.800000           1.600000   \n",
       "50%             5.800000          3.000000           4.350000   \n",
       "75%             6.400000          3.300000           5.100000   \n",
       "max             7.900000          4.400000           6.900000   \n",
       "\n",
       "       petal width (cm)  \n",
       "count        150.000000  \n",
       "mean           1.198667  \n",
       "std            0.763161  \n",
       "min            0.100000  \n",
       "25%            0.300000  \n",
       "50%            1.300000  \n",
       "75%            1.800000  \n",
       "max            2.500000  "
      ]
     },
     "execution_count": 5,
     "metadata": {},
     "output_type": "execute_result"
    }
   ],
   "source": [
    "df.columns = iris.feature_names\n",
    "df.describe()"
   ]
  },
  {
   "cell_type": "code",
   "execution_count": 6,
   "metadata": {},
   "outputs": [
    {
     "name": "stderr",
     "output_type": "stream",
     "text": [
      "/home/rattandeep/anaconda/lib/python3.6/site-packages/sklearn/cross_validation.py:41: DeprecationWarning: This module was deprecated in version 0.18 in favor of the model_selection module into which all the refactored classes and functions are moved. Also note that the interface of the new CV iterators are different from that of this module. This module will be removed in 0.20.\n",
      "  \"This module will be removed in 0.20.\", DeprecationWarning)\n"
     ]
    }
   ],
   "source": [
    "from sklearn import cross_validation as cv"
   ]
  },
  {
   "cell_type": "code",
   "execution_count": 7,
   "metadata": {
    "collapsed": true
   },
   "outputs": [],
   "source": [
    "from sklearn.linear_model import LinearRegression"
   ]
  },
  {
   "cell_type": "code",
   "execution_count": 8,
   "metadata": {
    "collapsed": true
   },
   "outputs": [],
   "source": [
    "X_train , X_test , Y_train , Y_test = cv.train_test_split(df , iris.target , test_size = 0.2)"
   ]
  },
  {
   "cell_type": "code",
   "execution_count": 99,
   "metadata": {},
   "outputs": [],
   "source": [
    "X_train_mat = X_train.as_matrix(columns = ['petal width (cm)'])\n",
    "#Y_train_mat = Y_train.as_matrix(columns = ['sepal length (cm)'])\n",
    "X_test_mat = X_test.as_matrix(columns = ['petal width (cm)'])\n",
    "#Y_test_mat = Y_test.as_matrix(columns = ['sepal length (cm)'])"
   ]
  },
  {
   "cell_type": "code",
   "execution_count": 100,
   "metadata": {
    "collapsed": true
   },
   "outputs": [
    {
     "name": "stdout",
     "output_type": "stream",
     "text": [
      "(120, 1)\n",
      "(120, 1)\n",
      "[[ 1.4]\n",
      " [ 2.5]\n",
      " [ 2.3]\n",
      " [ 0.2]\n",
      " [ 1.4]\n",
      " [ 1.5]\n",
      " [ 1.3]\n",
      " [ 1.7]\n",
      " [ 0.4]\n",
      " [ 0.6]\n",
      " [ 1.4]\n",
      " [ 2. ]\n",
      " [ 1.5]\n",
      " [ 2.3]\n",
      " [ 1.3]\n",
      " [ 2.1]\n",
      " [ 1.4]\n",
      " [ 2. ]\n",
      " [ 1. ]\n",
      " [ 0.1]\n",
      " [ 0.4]\n",
      " [ 0.2]\n",
      " [ 1.4]\n",
      " [ 1. ]\n",
      " [ 1.8]\n",
      " [ 1.3]\n",
      " [ 1. ]\n",
      " [ 0.2]\n",
      " [ 1.3]\n",
      " [ 1.6]\n",
      " [ 0.2]\n",
      " [ 1.5]\n",
      " [ 1.8]\n",
      " [ 0.2]\n",
      " [ 2.3]\n",
      " [ 1.6]\n",
      " [ 0.3]\n",
      " [ 1.2]\n",
      " [ 0.2]\n",
      " [ 0.2]\n",
      " [ 1.8]\n",
      " [ 0.1]\n",
      " [ 0.2]\n",
      " [ 0.2]\n",
      " [ 1.5]\n",
      " [ 2. ]\n",
      " [ 2.3]\n",
      " [ 1.5]\n",
      " [ 2.1]\n",
      " [ 1.8]\n",
      " [ 1. ]\n",
      " [ 1. ]\n",
      " [ 1.5]\n",
      " [ 1.4]\n",
      " [ 0.2]\n",
      " [ 1.2]\n",
      " [ 0.5]\n",
      " [ 1.8]\n",
      " [ 2.4]\n",
      " [ 1.8]\n",
      " [ 1.1]\n",
      " [ 2.4]\n",
      " [ 2.1]\n",
      " [ 0.2]\n",
      " [ 1.1]\n",
      " [ 1.9]\n",
      " [ 1.2]\n",
      " [ 0.3]\n",
      " [ 1.5]\n",
      " [ 2.5]\n",
      " [ 0.2]\n",
      " [ 1.3]\n",
      " [ 1.3]\n",
      " [ 1.2]\n",
      " [ 1.3]\n",
      " [ 0.1]\n",
      " [ 2.5]\n",
      " [ 1.9]\n",
      " [ 0.2]\n",
      " [ 0.1]\n",
      " [ 0.2]\n",
      " [ 0.2]\n",
      " [ 1.4]\n",
      " [ 0.2]\n",
      " [ 1.8]\n",
      " [ 1.5]\n",
      " [ 0.4]\n",
      " [ 0.2]\n",
      " [ 0.2]\n",
      " [ 1.5]\n",
      " [ 2. ]\n",
      " [ 0.2]\n",
      " [ 1.5]\n",
      " [ 0.4]\n",
      " [ 0.2]\n",
      " [ 2.4]\n",
      " [ 1.6]\n",
      " [ 0.2]\n",
      " [ 1.2]\n",
      " [ 0.3]\n",
      " [ 1.4]\n",
      " [ 0.3]\n",
      " [ 1.9]\n",
      " [ 1.3]\n",
      " [ 1.9]\n",
      " [ 0.2]\n",
      " [ 2.3]\n",
      " [ 0.2]\n",
      " [ 1. ]\n",
      " [ 0.1]\n",
      " [ 0.2]\n",
      " [ 1.7]\n",
      " [ 2.1]\n",
      " [ 0.4]\n",
      " [ 2.3]\n",
      " [ 0.4]\n",
      " [ 2.2]\n",
      " [ 1.8]\n",
      " [ 2.2]\n",
      " [ 0.2]]\n",
      "[[2]\n",
      " [2]\n",
      " [2]\n",
      " [0]\n",
      " [1]\n",
      " [1]\n",
      " [1]\n",
      " [2]\n",
      " [0]\n",
      " [0]\n",
      " [1]\n",
      " [2]\n",
      " [1]\n",
      " [2]\n",
      " [1]\n",
      " [2]\n",
      " [1]\n",
      " [2]\n",
      " [1]\n",
      " [0]\n",
      " [0]\n",
      " [0]\n",
      " [1]\n",
      " [1]\n",
      " [2]\n",
      " [1]\n",
      " [1]\n",
      " [0]\n",
      " [1]\n",
      " [1]\n",
      " [0]\n",
      " [1]\n",
      " [2]\n",
      " [0]\n",
      " [2]\n",
      " [1]\n",
      " [0]\n",
      " [1]\n",
      " [0]\n",
      " [0]\n",
      " [2]\n",
      " [0]\n",
      " [0]\n",
      " [0]\n",
      " [1]\n",
      " [2]\n",
      " [2]\n",
      " [1]\n",
      " [2]\n",
      " [2]\n",
      " [1]\n",
      " [1]\n",
      " [2]\n",
      " [1]\n",
      " [0]\n",
      " [1]\n",
      " [0]\n",
      " [2]\n",
      " [2]\n",
      " [2]\n",
      " [1]\n",
      " [2]\n",
      " [2]\n",
      " [0]\n",
      " [1]\n",
      " [2]\n",
      " [1]\n",
      " [0]\n",
      " [1]\n",
      " [2]\n",
      " [0]\n",
      " [1]\n",
      " [1]\n",
      " [1]\n",
      " [1]\n",
      " [0]\n",
      " [2]\n",
      " [2]\n",
      " [0]\n",
      " [0]\n",
      " [0]\n",
      " [0]\n",
      " [1]\n",
      " [0]\n",
      " [1]\n",
      " [1]\n",
      " [0]\n",
      " [0]\n",
      " [0]\n",
      " [2]\n",
      " [2]\n",
      " [0]\n",
      " [1]\n",
      " [0]\n",
      " [0]\n",
      " [2]\n",
      " [1]\n",
      " [0]\n",
      " [1]\n",
      " [0]\n",
      " [1]\n",
      " [0]\n",
      " [2]\n",
      " [1]\n",
      " [2]\n",
      " [0]\n",
      " [2]\n",
      " [0]\n",
      " [1]\n",
      " [0]\n",
      " [0]\n",
      " [1]\n",
      " [2]\n",
      " [0]\n",
      " [2]\n",
      " [0]\n",
      " [2]\n",
      " [2]\n",
      " [2]\n",
      " [0]]\n"
     ]
    }
   ],
   "source": [
    "Y_train = Y_train.reshape((120,1))\n",
    "Y_test = Y_test.reshape((30,1))\n",
    "print(X_train_mat.shape)\n",
    "print(Y_train.shape)\n",
    "print(X_train_mat)\n",
    "print(Y_train)"
   ]
  },
  {
   "cell_type": "code",
   "execution_count": 101,
   "metadata": {},
   "outputs": [
    {
     "name": "stdout",
     "output_type": "stream",
     "text": [
      "0.817819394372\n",
      "0.0963750907458\n"
     ]
    }
   ],
   "source": [
    "m,b = fitFunct(X_train_mat,Y_train)\n",
    "print(m)\n",
    "print(b)"
   ]
  },
  {
   "cell_type": "code",
   "execution_count": 102,
   "metadata": {},
   "outputs": [],
   "source": [
    "Y_predict = predict(m,b,X_test_mat)"
   ]
  },
  {
   "cell_type": "code",
   "execution_count": 103,
   "metadata": {},
   "outputs": [
    {
     "name": "stdout",
     "output_type": "stream",
     "text": [
      "0.755336826323\n"
     ]
    }
   ],
   "source": [
    "print(score(Y_predict,Y_test))"
   ]
  },
  {
   "cell_type": "code",
   "execution_count": null,
   "metadata": {},
   "outputs": [],
   "source": []
  },
  {
   "cell_type": "code",
   "execution_count": null,
   "metadata": {
    "collapsed": true
   },
   "outputs": [],
   "source": []
  }
 ],
 "metadata": {
  "kernelspec": {
   "display_name": "Python 3",
   "language": "python",
   "name": "python3"
  },
  "language_info": {
   "codemirror_mode": {
    "name": "ipython",
    "version": 3
   },
   "file_extension": ".py",
   "mimetype": "text/x-python",
   "name": "python",
   "nbconvert_exporter": "python",
   "pygments_lexer": "ipython3",
   "version": "3.6.3"
  }
 },
 "nbformat": 4,
 "nbformat_minor": 2
}
