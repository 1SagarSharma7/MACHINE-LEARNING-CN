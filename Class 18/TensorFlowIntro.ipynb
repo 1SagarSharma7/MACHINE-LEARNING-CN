{
 "cells": [
  {
   "cell_type": "code",
   "execution_count": 1,
   "metadata": {
    "collapsed": true
   },
   "outputs": [],
   "source": [
    "import tensorflow as tf"
   ]
  },
  {
   "cell_type": "code",
   "execution_count": 2,
   "metadata": {},
   "outputs": [
    {
     "name": "stdout",
     "output_type": "stream",
     "text": [
      "Tensor(\"Const:0\", shape=(), dtype=int32)\n",
      "Tensor(\"Add:0\", shape=(), dtype=int32)\n",
      "5\n",
      "6 5\n"
     ]
    },
    {
     "data": {
      "text/plain": [
       "<tf.Tensor 'Const:0' shape=() dtype=int32>"
      ]
     },
     "execution_count": 2,
     "metadata": {},
     "output_type": "execute_result"
    }
   ],
   "source": [
    "a = tf.constant(2)\n",
    "b = tf.constant(3)\n",
    "print(a)\n",
    "sess = tf.Session()\n",
    "l = tf.add(a, b)\n",
    "print(l)\n",
    "print(sess.run(l))\n",
    "m = sess.run(a * b)\n",
    "s = sess.run(a + b)\n",
    "print(m, s)\n",
    "sess.run([a * b, a + b])\n",
    "a"
   ]
  },
  {
   "cell_type": "code",
   "execution_count": 3,
   "metadata": {},
   "outputs": [
    {
     "data": {
      "text/plain": [
       "30"
      ]
     },
     "execution_count": 3,
     "metadata": {},
     "output_type": "execute_result"
    }
   ],
   "source": [
    "x = tf.placeholder(tf.int16)\n",
    "y = tf.placeholder(tf.int16)\n",
    "add = tf.add(x, y)\n",
    "sess = tf.Session()\n",
    "sess.run(add, feed_dict={x:10, y:20})"
   ]
  },
  {
   "cell_type": "code",
   "execution_count": 4,
   "metadata": {},
   "outputs": [
    {
     "name": "stdout",
     "output_type": "stream",
     "text": [
      "[[18]]\n"
     ]
    }
   ],
   "source": [
    "matrix1 = tf.constant([[3,3]])\n",
    "matrix2 = tf.constant([[3],[3]])\n",
    "product = tf.matmul(matrix1, matrix2)\n",
    "with tf.Session() as sess:\n",
    "    p = sess.run(product)\n",
    "    print(p)\n",
    "    "
   ]
  },
  {
   "cell_type": "code",
   "execution_count": 5,
   "metadata": {},
   "outputs": [
    {
     "name": "stdout",
     "output_type": "stream",
     "text": [
      "[[18 21 24]\n",
      " [40 47 54]]\n",
      "[[28 32 36]\n",
      " [50 58 66]]\n"
     ]
    }
   ],
   "source": [
    "dummyinput = tf.constant([[1, 2], [3, 4]])\n",
    "dummyweights = tf.constant([[4, 5, 6],[7, 8, 9]])\n",
    "dummybiases = tf.constant([10,11,12])\n",
    "product = tf.matmul(dummyinput, dummyweights)\n",
    "sum1 = tf.add(product, dummybiases)\n",
    "with tf.Session() as sess:\n",
    "    p = sess.run(product)\n",
    "    print(p)\n",
    "    s = sess.run(sum1)\n",
    "    print(s)"
   ]
  },
  {
   "cell_type": "code",
   "execution_count": 6,
   "metadata": {},
   "outputs": [
    {
     "name": "stdout",
     "output_type": "stream",
     "text": [
      "WARNING:tensorflow:From /home/rattandeep/anaconda/lib/python3.6/site-packages/tensorflow/contrib/learn/python/learn/datasets/base.py:198: retry (from tensorflow.contrib.learn.python.learn.datasets.base) is deprecated and will be removed in a future version.\n",
      "Instructions for updating:\n",
      "Use the retry module or similar alternatives.\n"
     ]
    }
   ],
   "source": [
    "from tensorflow.examples.tutorials.mnist import input_data"
   ]
  },
  {
   "cell_type": "code",
   "execution_count": 7,
   "metadata": {},
   "outputs": [
    {
     "name": "stdout",
     "output_type": "stream",
     "text": [
      "WARNING:tensorflow:From <ipython-input-7-6f78a56b35f2>:1: read_data_sets (from tensorflow.contrib.learn.python.learn.datasets.mnist) is deprecated and will be removed in a future version.\n",
      "Instructions for updating:\n",
      "Please use alternatives such as official/mnist/dataset.py from tensorflow/models.\n",
      "WARNING:tensorflow:From /home/rattandeep/anaconda/lib/python3.6/site-packages/tensorflow/contrib/learn/python/learn/datasets/mnist.py:260: maybe_download (from tensorflow.contrib.learn.python.learn.datasets.base) is deprecated and will be removed in a future version.\n",
      "Instructions for updating:\n",
      "Please write your own downloading logic.\n",
      "WARNING:tensorflow:From /home/rattandeep/anaconda/lib/python3.6/site-packages/tensorflow/contrib/learn/python/learn/datasets/mnist.py:262: extract_images (from tensorflow.contrib.learn.python.learn.datasets.mnist) is deprecated and will be removed in a future version.\n",
      "Instructions for updating:\n",
      "Please use tf.data to implement this functionality.\n",
      "Extracting MNIST_data/train-images-idx3-ubyte.gz\n",
      "WARNING:tensorflow:From /home/rattandeep/anaconda/lib/python3.6/site-packages/tensorflow/contrib/learn/python/learn/datasets/mnist.py:267: extract_labels (from tensorflow.contrib.learn.python.learn.datasets.mnist) is deprecated and will be removed in a future version.\n",
      "Instructions for updating:\n",
      "Please use tf.data to implement this functionality.\n",
      "Extracting MNIST_data/train-labels-idx1-ubyte.gz\n",
      "WARNING:tensorflow:From /home/rattandeep/anaconda/lib/python3.6/site-packages/tensorflow/contrib/learn/python/learn/datasets/mnist.py:110: dense_to_one_hot (from tensorflow.contrib.learn.python.learn.datasets.mnist) is deprecated and will be removed in a future version.\n",
      "Instructions for updating:\n",
      "Please use tf.one_hot on tensors.\n",
      "Extracting MNIST_data/t10k-images-idx3-ubyte.gz\n",
      "Extracting MNIST_data/t10k-labels-idx1-ubyte.gz\n",
      "WARNING:tensorflow:From /home/rattandeep/anaconda/lib/python3.6/site-packages/tensorflow/contrib/learn/python/learn/datasets/mnist.py:290: DataSet.__init__ (from tensorflow.contrib.learn.python.learn.datasets.mnist) is deprecated and will be removed in a future version.\n",
      "Instructions for updating:\n",
      "Please use alternatives such as official/mnist/dataset.py from tensorflow/models.\n"
     ]
    }
   ],
   "source": [
    "mnist = input_data.read_data_sets(\"MNIST_data/\", one_hot=True)"
   ]
  },
  {
   "cell_type": "code",
   "execution_count": 8,
   "metadata": {},
   "outputs": [
    {
     "data": {
      "text/plain": [
       "(55000, 10)"
      ]
     },
     "execution_count": 8,
     "metadata": {},
     "output_type": "execute_result"
    }
   ],
   "source": [
    "mnist.train.images.shape\n",
    "mnist.train.labels.shape"
   ]
  },
  {
   "cell_type": "code",
   "execution_count": 9,
   "metadata": {},
   "outputs": [],
   "source": [
    "n_hidden_1 = 256\n",
    "n_hidden_2 = 256\n",
    "n_input = 784\n",
    "n_classes = 10\n",
    "\n",
    "weights = {\n",
    "    'h1': tf.Variable(tf.random_normal([n_input, n_hidden_1])),\n",
    "    'h2': tf.Variable(tf.random_normal([n_hidden_1, n_hidden_2])),\n",
    "    'out': tf.Variable(tf.random_normal([n_hidden_2, n_classes]))\n",
    "}\n",
    "\n",
    "biases = {\n",
    "    'h1': tf.Variable(tf.random_normal([n_hidden_1])),\n",
    "    'h2': tf.Variable(tf.random_normal([n_hidden_2])),\n",
    "    'out': tf.Variable(tf.random_normal([n_classes]))\n",
    "}\n"
   ]
  },
  {
   "cell_type": "code",
   "execution_count": 10,
   "metadata": {
    "collapsed": true
   },
   "outputs": [],
   "source": [
    "def mlp(x, weights, biases):\n",
    "    layer1 = tf.add(tf.matmul(x, weights['h1']), biases['h1'])\n",
    "    layer1 = tf.nn.relu(layer1)\n",
    "    \n",
    "    layer2 = tf.add(tf.matmul(layer1, weights['h2']), biases['h2'])\n",
    "    layer2 = tf.nn.relu(layer2)\n",
    "    \n",
    "    out_layer = tf.add(tf.matmul(layer2, weights['out']), biases['out'])\n",
    "    out_layer = tf.nn.sigmoid(out_layer)\n",
    "    return out_layer"
   ]
  },
  {
   "cell_type": "code",
   "execution_count": 11,
   "metadata": {},
   "outputs": [
    {
     "data": {
      "text/plain": [
       "<tf.Tensor 'Sigmoid:0' shape=(?, 10) dtype=float32>"
      ]
     },
     "execution_count": 11,
     "metadata": {},
     "output_type": "execute_result"
    }
   ],
   "source": [
    "x = tf.placeholder(\"float\", [None, n_input])\n",
    "y = tf.placeholder(\"float\", [None, n_classes])\n",
    "pred = mlp(x, weights, biases)\n",
    "pred"
   ]
  },
  {
   "cell_type": "code",
   "execution_count": 12,
   "metadata": {},
   "outputs": [
    {
     "name": "stdout",
     "output_type": "stream",
     "text": [
      "WARNING:tensorflow:From <ipython-input-12-a570162b2c8c>:1: softmax_cross_entropy_with_logits (from tensorflow.python.ops.nn_ops) is deprecated and will be removed in a future version.\n",
      "Instructions for updating:\n",
      "\n",
      "Future major versions of TensorFlow will allow gradients to flow\n",
      "into the labels input on backprop by default.\n",
      "\n",
      "See tf.nn.softmax_cross_entropy_with_logits_v2.\n",
      "\n"
     ]
    }
   ],
   "source": [
    "cost = tf.reduce_mean(tf.nn.softmax_cross_entropy_with_logits(logits=pred, labels=y))\n",
    "optimize = tf.train.AdamOptimizer(learning_rate=0.008).minimize(cost)"
   ]
  },
  {
   "cell_type": "code",
   "execution_count": 13,
   "metadata": {
    "collapsed": true
   },
   "outputs": [],
   "source": [
    "sess = tf.Session()\n",
    "init = tf.global_variables_initializer()\n",
    "sess.run(init)"
   ]
  },
  {
   "cell_type": "code",
   "execution_count": 14,
   "metadata": {
    "scrolled": true
   },
   "outputs": [
    {
     "name": "stdout",
     "output_type": "stream",
     "text": [
      "0 2.40852\n",
      "1 2.3394\n",
      "2 2.29247\n",
      "3 2.25245\n",
      "4 2.20181\n",
      "5 2.15002\n",
      "6 2.12325\n",
      "7 2.10312\n",
      "8 2.07722\n",
      "9 2.0472\n",
      "10 2.01526\n",
      "11 1.98647\n",
      "12 1.95515\n",
      "13 1.92563\n",
      "14 1.89977\n",
      "15 1.87557\n",
      "16 1.8484\n",
      "17 1.82146\n",
      "18 1.80046\n",
      "19 1.78618\n",
      "20 1.77643\n",
      "21 1.76823\n",
      "22 1.75779\n",
      "23 1.74713\n",
      "24 1.73791\n",
      "25 1.73074\n",
      "26 1.72473\n",
      "27 1.71913\n",
      "28 1.71499\n",
      "29 1.71157\n",
      "30 1.70899\n",
      "31 1.70584\n",
      "32 1.70177\n",
      "33 1.69766\n",
      "34 1.6935\n",
      "35 1.68869\n",
      "36 1.685\n",
      "37 1.68229\n",
      "38 1.6799\n",
      "39 1.67741\n",
      "40 1.67535\n",
      "41 1.67345\n",
      "42 1.67144\n",
      "43 1.66964\n",
      "44 1.66756\n",
      "45 1.66608\n",
      "46 1.66437\n",
      "47 1.66273\n",
      "48 1.6605\n",
      "49 1.65893\n",
      "50 1.65778\n",
      "51 1.65789\n",
      "52 1.65843\n",
      "53 1.65578\n",
      "54 1.65212\n",
      "55 1.6492\n",
      "56 1.64814\n",
      "57 1.64795\n",
      "58 1.64722\n",
      "59 1.64522\n",
      "60 1.64405\n",
      "61 1.64348\n",
      "62 1.64265\n",
      "63 1.64165\n",
      "64 1.641\n",
      "65 1.64086\n",
      "66 1.64049\n",
      "67 1.63954\n",
      "68 1.63824\n",
      "69 1.63794\n",
      "70 1.63735\n",
      "71 1.63761\n",
      "72 1.63788\n",
      "73 1.63532\n",
      "74 1.6333\n",
      "75 1.63245\n",
      "76 1.632\n",
      "77 1.63082\n",
      "78 1.62975\n",
      "79 1.62865\n",
      "80 1.62846\n",
      "81 1.6285\n",
      "82 1.62859\n",
      "83 1.6286\n",
      "84 1.62854\n",
      "85 1.62816\n",
      "86 1.62765\n",
      "87 1.62661\n",
      "88 1.62607\n",
      "89 1.62579\n",
      "90 1.62546\n",
      "91 1.62483\n",
      "92 1.62497\n",
      "93 1.62524\n",
      "94 1.62393\n",
      "95 1.62244\n",
      "96 1.62277\n",
      "97 1.62342\n",
      "98 1.62421\n",
      "99 1.62389\n"
     ]
    }
   ],
   "source": [
    "for i in range(100):\n",
    "    _ , c = sess.run([optimize, cost], feed_dict={x: mnist.train.images, y:mnist.train.labels})\n",
    "    print(i, c)"
   ]
  },
  {
   "cell_type": "code",
   "execution_count": 15,
   "metadata": {},
   "outputs": [],
   "source": [
    "predictions = tf.argmax(pred, 1)\n",
    "correct_labels = tf.argmax(y, 1)\n",
    "correct_predictions = tf.equal(predictions, correct_labels)\n",
    "predictions,correct_predictions  = sess.run([predictions, correct_predictions], feed_dict={x:mnist.test.images,\n",
    "                                              y:mnist.test.labels})\n"
   ]
  },
  {
   "cell_type": "code",
   "execution_count": 16,
   "metadata": {},
   "outputs": [
    {
     "data": {
      "text/plain": [
       "2200"
      ]
     },
     "execution_count": 16,
     "metadata": {},
     "output_type": "execute_result"
    }
   ],
   "source": [
    "(correct_predictions == False).sum()"
   ]
  },
  {
   "cell_type": "code",
   "execution_count": 17,
   "metadata": {},
   "outputs": [
    {
     "data": {
      "text/plain": [
       "(10000,)"
      ]
     },
     "execution_count": 17,
     "metadata": {},
     "output_type": "execute_result"
    }
   ],
   "source": [
    "correct_predictions.shape"
   ]
  },
  {
   "cell_type": "code",
   "execution_count": null,
   "metadata": {
    "collapsed": true
   },
   "outputs": [],
   "source": []
  }
 ],
 "metadata": {
  "anaconda-cloud": {},
  "kernelspec": {
   "display_name": "Python 3",
   "language": "python",
   "name": "python3"
  },
  "language_info": {
   "codemirror_mode": {
    "name": "ipython",
    "version": 3
   },
   "file_extension": ".py",
   "mimetype": "text/x-python",
   "name": "python",
   "nbconvert_exporter": "python",
   "pygments_lexer": "ipython3",
   "version": "3.6.3"
  }
 },
 "nbformat": 4,
 "nbformat_minor": 1
}
