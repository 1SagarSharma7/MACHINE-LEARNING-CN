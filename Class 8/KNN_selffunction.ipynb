{
 "cells": [
  {
   "cell_type": "code",
   "execution_count": 189,
   "metadata": {
    "collapsed": true
   },
   "outputs": [],
   "source": [
    "import math\n",
    "from sklearn import datasets\n",
    "from sklearn.model_selection import train_test_split\n",
    "import matplotlib.pyplot as plt\n",
    "from sklearn.model_selection import cross_val_score\n",
    "import numpy as np\n",
    "from sklearn import preprocessing"
   ]
  },
  {
   "cell_type": "code",
   "execution_count": 165,
   "metadata": {
    "collapsed": true
   },
   "outputs": [],
   "source": [
    "#X_train n,m\n",
    "#Y_train n\n",
    "\n",
    "def calculateDistance(trainingPoint, testingPoint):\n",
    "    dist = 0\n",
    "    for i in range(trainingPoint.shape[0]):\n",
    "        dist += math.pow(trainingPoint[i] - testingPoint[i], 2)\n",
    "    return dist\n",
    "\n",
    "def predict(X_train, Y_train, X_test, k):\n",
    "    \n",
    "    Y_predict = np.array([])\n",
    "    zero = int(0)\n",
    "    one = int(1)\n",
    "    for i in range(X_test.shape[0]):\n",
    "        testingPoint = X_test[i]\n",
    "        predictedClassCount = [0,0]\n",
    "        \n",
    "        disArray = []\n",
    "        \n",
    "        for j in range(X_train.shape[0]):\n",
    "            trainingPoint = X_train[j]\n",
    "            dist = calculateDistance(trainingPoint , testingPoint)\n",
    "            disArray.append((dist,j))\n",
    "        \n",
    "        disArray = sorted(disArray, key = lambda x:x[0], reverse =True)\n",
    "        disArray = disArray[:k][:]\n",
    "        \n",
    "        for x in range(k):\n",
    "            predictedClassCount[Y_train[disArray[x][1]]] += 1\n",
    "        \n",
    "        print(predictedClassCount[0] , predictedClassCount[1] )\n",
    "        \n",
    "        if (predictedClassCount[0] > predictedClassCount[1]):\n",
    "            Y_predict = np.append(Y_predict,[zero])\n",
    "        else:\n",
    "            Y_predict = np.append(Y_predict,[one])\n",
    "            \n",
    "    return Y_predict"
   ]
  },
  {
   "cell_type": "code",
   "execution_count": 166,
   "metadata": {},
   "outputs": [],
   "source": [
    "cancer = datasets.load_breast_cancer()"
   ]
  },
  {
   "cell_type": "code",
   "execution_count": 188,
   "metadata": {
    "collapsed": true
   },
   "outputs": [],
   "source": [
    "X_train, X_test, Y_train, Y_test = train_test_split(cancer.data, cancer.target)"
   ]
  },
  {
   "cell_type": "code",
   "execution_count": 190,
   "metadata": {
    "collapsed": true
   },
   "outputs": [],
   "source": [
    "#FEATURE SCALING\n",
    "X_train = preprocessing.scale(X_train)\n",
    "X_test = preprocessing.scale(X_test)\n"
   ]
  },
  {
   "cell_type": "code",
   "execution_count": 196,
   "metadata": {},
   "outputs": [
    {
     "name": "stdout",
     "output_type": "stream",
     "text": [
      "2 7\n",
      "4 5\n",
      "3 6\n",
      "8 1\n",
      "8 1\n",
      "8 1\n",
      "8 1\n",
      "6 3\n",
      "4 5\n",
      "4 5\n",
      "8 1\n",
      "8 1\n",
      "7 2\n",
      "6 3\n",
      "5 4\n",
      "8 1\n",
      "8 1\n",
      "8 1\n",
      "3 6\n",
      "4 5\n",
      "8 1\n",
      "8 1\n",
      "9 0\n",
      "6 3\n",
      "5 4\n",
      "8 1\n",
      "8 1\n",
      "8 1\n",
      "3 6\n",
      "8 1\n",
      "8 1\n",
      "3 6\n",
      "7 2\n",
      "1 8\n",
      "5 4\n",
      "6 3\n",
      "8 1\n",
      "7 2\n",
      "5 4\n",
      "8 1\n",
      "8 1\n",
      "4 5\n",
      "5 4\n",
      "5 4\n",
      "7 2\n",
      "8 1\n",
      "8 1\n",
      "8 1\n",
      "8 1\n",
      "7 2\n",
      "8 1\n",
      "8 1\n",
      "8 1\n",
      "8 1\n",
      "8 1\n",
      "6 3\n",
      "4 5\n",
      "4 5\n",
      "8 1\n",
      "8 1\n",
      "8 1\n",
      "8 1\n",
      "8 1\n",
      "7 2\n",
      "5 4\n",
      "0 9\n",
      "8 1\n",
      "0 9\n",
      "8 1\n",
      "6 3\n",
      "8 1\n",
      "8 1\n",
      "4 5\n",
      "1 8\n",
      "8 1\n",
      "8 1\n",
      "5 4\n",
      "6 3\n",
      "6 3\n",
      "3 6\n",
      "6 3\n",
      "8 1\n",
      "8 1\n",
      "8 1\n",
      "6 3\n",
      "8 1\n",
      "1 8\n",
      "8 1\n",
      "6 3\n",
      "8 1\n",
      "5 4\n",
      "7 2\n",
      "8 1\n",
      "9 0\n",
      "9 0\n",
      "7 2\n",
      "9 0\n",
      "8 1\n",
      "8 1\n",
      "8 1\n",
      "4 5\n",
      "8 1\n",
      "0 9\n",
      "8 1\n",
      "3 6\n",
      "7 2\n",
      "8 1\n",
      "1 8\n",
      "8 1\n",
      "8 1\n",
      "5 4\n",
      "3 6\n",
      "8 1\n",
      "8 1\n",
      "8 1\n",
      "9 0\n",
      "8 1\n",
      "8 1\n",
      "8 1\n",
      "8 1\n",
      "8 1\n",
      "8 1\n",
      "8 1\n",
      "8 1\n",
      "8 1\n",
      "4 5\n",
      "8 1\n",
      "8 1\n",
      "8 1\n",
      "5 4\n",
      "8 1\n",
      "8 1\n",
      "8 1\n",
      "6 3\n",
      "8 1\n",
      "4 5\n",
      "3 6\n",
      "8 1\n",
      "4 5\n",
      "5 4\n",
      "5 4\n",
      "8 1\n",
      "8 1\n"
     ]
    }
   ],
   "source": [
    "Y_predict = predict(X_train, Y_train, X_test, 9)"
   ]
  },
  {
   "cell_type": "code",
   "execution_count": 197,
   "metadata": {},
   "outputs": [
    {
     "data": {
      "text/plain": [
       "143"
      ]
     },
     "execution_count": 197,
     "metadata": {},
     "output_type": "execute_result"
    }
   ],
   "source": [
    "X_test.shape[0]"
   ]
  },
  {
   "cell_type": "code",
   "execution_count": 198,
   "metadata": {},
   "outputs": [
    {
     "data": {
      "text/plain": [
       "(143,)"
      ]
     },
     "execution_count": 198,
     "metadata": {},
     "output_type": "execute_result"
    }
   ],
   "source": [
    "Y_predict.shape"
   ]
  },
  {
   "cell_type": "code",
   "execution_count": 199,
   "metadata": {},
   "outputs": [
    {
     "name": "stdout",
     "output_type": "stream",
     "text": [
      "[ 1.  1.  1. -1. -1. -1. -1.  0.  1.  1. -1. -1.  0.  0.  0. -1. -1. -1.\n",
      "  1.  1. -1. -1. -1.  0.  0. -1. -1. -1.  0. -1. -1.  1.  0.  1.  0.  0.\n",
      " -1.  0.  0. -1. -1.  1.  0.  0.  0.  0. -1. -1. -1.  0. -1. -1. -1. -1.\n",
      " -1.  0.  1.  1. -1. -1.  0. -1. -1.  0.  0.  1.  0.  1. -1.  0. -1. -1.\n",
      "  1.  1. -1. -1.  0.  0.  0.  1.  0. -1. -1. -1.  0. -1.  1. -1.  0. -1.\n",
      "  0.  0. -1. -1. -1. -1. -1. -1. -1. -1.  1. -1.  1. -1.  1. -1. -1.  1.\n",
      " -1. -1.  0.  1. -1. -1. -1. -1. -1. -1. -1. -1. -1. -1. -1. -1. -1.  1.\n",
      " -1. -1. -1.  0. -1. -1. -1.  0. -1.  1.  1. -1.  1.  0.  0. -1. -1.]\n"
     ]
    }
   ],
   "source": [
    "print(Y_predict - Y_test)"
   ]
  },
  {
   "cell_type": "code",
   "execution_count": 200,
   "metadata": {},
   "outputs": [
    {
     "data": {
      "text/plain": [
       "107.0"
      ]
     },
     "execution_count": 200,
     "metadata": {},
     "output_type": "execute_result"
    }
   ],
   "source": [
    "np.fabs(Y_predict - Y_test).sum()"
   ]
  },
  {
   "cell_type": "code",
   "execution_count": null,
   "metadata": {
    "collapsed": true
   },
   "outputs": [],
   "source": []
  },
  {
   "cell_type": "code",
   "execution_count": null,
   "metadata": {
    "collapsed": true
   },
   "outputs": [],
   "source": []
  },
  {
   "cell_type": "code",
   "execution_count": null,
   "metadata": {
    "collapsed": true
   },
   "outputs": [],
   "source": []
  },
  {
   "cell_type": "code",
   "execution_count": null,
   "metadata": {
    "collapsed": true
   },
   "outputs": [],
   "source": []
  },
  {
   "cell_type": "code",
   "execution_count": null,
   "metadata": {
    "collapsed": true
   },
   "outputs": [],
   "source": []
  },
  {
   "cell_type": "code",
   "execution_count": null,
   "metadata": {
    "collapsed": true
   },
   "outputs": [],
   "source": []
  },
  {
   "cell_type": "code",
   "execution_count": 7,
   "metadata": {
    "collapsed": true
   },
   "outputs": [],
   "source": [
    "import numpy as np"
   ]
  },
  {
   "cell_type": "code",
   "execution_count": 69,
   "metadata": {},
   "outputs": [],
   "source": [
    "a = []\n",
    "a.append((5,4))\n",
    "a.append((15,2))\n",
    "a.append((9,8))\n",
    "a.append((59,8))\n",
    "a.append((39,18))\n",
    "a.append((91,98))\n"
   ]
  },
  {
   "cell_type": "code",
   "execution_count": 70,
   "metadata": {},
   "outputs": [
    {
     "data": {
      "text/plain": [
       "[(5, 4), (15, 2), (9, 8), (59, 8), (39, 18), (91, 98)]"
      ]
     },
     "execution_count": 70,
     "metadata": {},
     "output_type": "execute_result"
    }
   ],
   "source": [
    "a"
   ]
  },
  {
   "cell_type": "code",
   "execution_count": 71,
   "metadata": {},
   "outputs": [],
   "source": [
    "a = sorted(a,key = lambda x:x[0], reverse =True)"
   ]
  },
  {
   "cell_type": "code",
   "execution_count": 72,
   "metadata": {},
   "outputs": [
    {
     "data": {
      "text/plain": [
       "[(91, 98), (59, 8), (39, 18), (15, 2), (9, 8), (5, 4)]"
      ]
     },
     "execution_count": 72,
     "metadata": {},
     "output_type": "execute_result"
    }
   ],
   "source": [
    "a"
   ]
  },
  {
   "cell_type": "code",
   "execution_count": 73,
   "metadata": {},
   "outputs": [
    {
     "data": {
      "text/plain": [
       "[(91, 98), (59, 8), (39, 18)]"
      ]
     },
     "execution_count": 73,
     "metadata": {},
     "output_type": "execute_result"
    }
   ],
   "source": [
    "a = a[:3][:]\n",
    "a"
   ]
  },
  {
   "cell_type": "code",
   "execution_count": 54,
   "metadata": {},
   "outputs": [
    {
     "data": {
      "text/plain": [
       "3"
      ]
     },
     "execution_count": 54,
     "metadata": {},
     "output_type": "execute_result"
    }
   ],
   "source": [
    "len(a)"
   ]
  },
  {
   "cell_type": "code",
   "execution_count": 74,
   "metadata": {},
   "outputs": [
    {
     "data": {
      "text/plain": [
       "91"
      ]
     },
     "execution_count": 74,
     "metadata": {},
     "output_type": "execute_result"
    }
   ],
   "source": [
    "a[0][0]"
   ]
  },
  {
   "cell_type": "code",
   "execution_count": 75,
   "metadata": {},
   "outputs": [
    {
     "data": {
      "text/plain": [
       "98"
      ]
     },
     "execution_count": 75,
     "metadata": {},
     "output_type": "execute_result"
    }
   ],
   "source": [
    "a[0][1]"
   ]
  },
  {
   "cell_type": "code",
   "execution_count": 78,
   "metadata": {},
   "outputs": [
    {
     "ename": "TypeError",
     "evalue": "Required argument 'object' (pos 1) not found",
     "output_type": "error",
     "traceback": [
      "\u001b[0;31m---------------------------------------------------------------------------\u001b[0m",
      "\u001b[0;31mTypeError\u001b[0m                                 Traceback (most recent call last)",
      "\u001b[0;32m<ipython-input-78-a52863e6e030>\u001b[0m in \u001b[0;36m<module>\u001b[0;34m()\u001b[0m\n\u001b[0;32m----> 1\u001b[0;31m \u001b[0mx\u001b[0m \u001b[0;34m=\u001b[0m \u001b[0mnp\u001b[0m\u001b[0;34m.\u001b[0m\u001b[0marray\u001b[0m\u001b[0;34m(\u001b[0m\u001b[0;34m)\u001b[0m\u001b[0;34m\u001b[0m\u001b[0m\n\u001b[0m\u001b[1;32m      2\u001b[0m \u001b[0mnp\u001b[0m\u001b[0;34m.\u001b[0m\u001b[0mappend\u001b[0m\u001b[0;34m(\u001b[0m\u001b[0mx\u001b[0m\u001b[0;34m,\u001b[0m\u001b[0;34m[\u001b[0m\u001b[0;34m[\u001b[0m\u001b[0;36m3\u001b[0m\u001b[0;34m]\u001b[0m\u001b[0;34m]\u001b[0m\u001b[0;34m)\u001b[0m\u001b[0;34m\u001b[0m\u001b[0m\n\u001b[1;32m      3\u001b[0m \u001b[0mx\u001b[0m\u001b[0;34m\u001b[0m\u001b[0m\n",
      "\u001b[0;31mTypeError\u001b[0m: Required argument 'object' (pos 1) not found"
     ]
    }
   ],
   "source": [
    "x = np.array()\n",
    "np.append(x,[[3]])\n",
    "x"
   ]
  },
  {
   "cell_type": "code",
   "execution_count": 125,
   "metadata": {},
   "outputs": [],
   "source": [
    "Z = np.array([])"
   ]
  },
  {
   "cell_type": "code",
   "execution_count": 136,
   "metadata": {},
   "outputs": [
    {
     "ename": "TypeError",
     "evalue": "append() got an unexpected keyword argument 'type'",
     "output_type": "error",
     "traceback": [
      "\u001b[0;31m---------------------------------------------------------------------------\u001b[0m",
      "\u001b[0;31mTypeError\u001b[0m                                 Traceback (most recent call last)",
      "\u001b[0;32m<ipython-input-136-b816ebe77dc5>\u001b[0m in \u001b[0;36m<module>\u001b[0;34m()\u001b[0m\n\u001b[0;32m----> 1\u001b[0;31m \u001b[0mZ\u001b[0m \u001b[0;34m=\u001b[0m \u001b[0mnp\u001b[0m\u001b[0;34m.\u001b[0m\u001b[0mappend\u001b[0m\u001b[0;34m(\u001b[0m\u001b[0mZ\u001b[0m\u001b[0;34m,\u001b[0m\u001b[0;34m[\u001b[0m\u001b[0;36m3\u001b[0m\u001b[0;34m]\u001b[0m\u001b[0;34m,\u001b[0m\u001b[0mtype\u001b[0m \u001b[0;34m=\u001b[0m \u001b[0;34m'int'\u001b[0m\u001b[0;34m)\u001b[0m\u001b[0;34m\u001b[0m\u001b[0m\n\u001b[0m",
      "\u001b[0;31mTypeError\u001b[0m: append() got an unexpected keyword argument 'type'"
     ]
    }
   ],
   "source": [
    "Z = np.append(Z,[3],type = 'int')"
   ]
  },
  {
   "cell_type": "code",
   "execution_count": 127,
   "metadata": {},
   "outputs": [
    {
     "data": {
      "text/plain": [
       "(1,)"
      ]
     },
     "execution_count": 127,
     "metadata": {},
     "output_type": "execute_result"
    }
   ],
   "source": [
    "Z.shape"
   ]
  },
  {
   "cell_type": "code",
   "execution_count": 128,
   "metadata": {},
   "outputs": [
    {
     "data": {
      "text/plain": [
       "array([ 3.])"
      ]
     },
     "execution_count": 128,
     "metadata": {},
     "output_type": "execute_result"
    }
   ],
   "source": [
    "Z"
   ]
  },
  {
   "cell_type": "code",
   "execution_count": null,
   "metadata": {
    "collapsed": true
   },
   "outputs": [],
   "source": []
  },
  {
   "cell_type": "code",
   "execution_count": null,
   "metadata": {
    "collapsed": true
   },
   "outputs": [],
   "source": []
  }
 ],
 "metadata": {
  "kernelspec": {
   "display_name": "Python 3",
   "language": "python",
   "name": "python3"
  },
  "language_info": {
   "codemirror_mode": {
    "name": "ipython",
    "version": 3
   },
   "file_extension": ".py",
   "mimetype": "text/x-python",
   "name": "python",
   "nbconvert_exporter": "python",
   "pygments_lexer": "ipython3",
   "version": "3.6.3"
  }
 },
 "nbformat": 4,
 "nbformat_minor": 2
}
